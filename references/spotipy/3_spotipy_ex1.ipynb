{
 "cells": [
  {
   "cell_type": "code",
   "execution_count": 10,
   "metadata": {},
   "outputs": [],
   "source": [
    "import spotipy\n",
    "from spotipy.oauth2 import SpotifyClientCredentials, SpotifyOAuth"
   ]
  },
  {
   "cell_type": "code",
   "execution_count": 11,
   "metadata": {},
   "outputs": [],
   "source": [
    "spotify = spotipy.Spotify(client_credentials_manager=SpotifyClientCredentials(client_id=\"ee8117f8e4ef406eb79aee4569842953\", \n",
    "                                                                              client_secret=\"179d7b629d7e41c1bc138aa4274bac20\"))"
   ]
  },
  {
   "cell_type": "code",
   "execution_count": 12,
   "metadata": {},
   "outputs": [],
   "source": [
    "kanye_uri = 'https://open.spotify.com/artist/5K4W6rqBFWDnAN6FQUkS6x?si=yWi9lBLjTk2mugnsxTzvQg'"
   ]
  },
  {
   "cell_type": "code",
   "execution_count": 17,
   "metadata": {},
   "outputs": [],
   "source": [
    "results = spotify.artist_albums(kanye_uri, album_type='album')"
   ]
  },
  {
   "cell_type": "code",
   "execution_count": 14,
   "metadata": {},
   "outputs": [],
   "source": [
    "albums = results['items']\n",
    "while results['next']:\n",
    "    results = spotify.next(results)\n",
    "    albums.extend(results['items'])\n"
   ]
  },
  {
   "cell_type": "code",
   "execution_count": 26,
   "metadata": {},
   "outputs": [],
   "source": [
    "album_info = {}"
   ]
  },
  {
   "cell_type": "code",
   "execution_count": 28,
   "metadata": {},
   "outputs": [
    {
     "name": "stdout",
     "output_type": "stream",
     "text": [
      "Donda (Deluxe) 2Wiyo7LzdeBCsVZiRA6vVZ\n",
      "Donda 5CnpZV3q5BcESefcB3WJmz\n",
      "JESUS IS KING 0FgZKfoU2Br5sHOfvZKTI9\n",
      "KIDS SEE GHOSTS 6pwuKxMUkNg673KETsXPUV\n",
      "ye 2Ek1q2haOnxVqhvVKqMvJe\n",
      "The Life Of Pablo 7gsWAHLeT0w7es6FofOXk1\n",
      "Yeezus 7D2NdGvBHIavgLhmcwhluK\n",
      "Watch The Throne (Deluxe) 2P2Xwvh2xWXIZ1OWY9S9o5\n",
      "Watch The Throne 0OcMap99vLEeGkBCfCwRwS\n",
      "My Beautiful Dark Twisted Fantasy 20r762YmB5HeofjMCiPMLv\n",
      "My Beautiful Dark Twisted Fantasy (Edited Version) 555YaDGJyzG0QkdImBtPFD\n",
      "808s & Heartbreak 3WFTGIO6E3Xh4paEOBY9OU\n",
      "Graduation 4SZko61aMnmgvNhfhgTuD3\n",
      "Late Registration 5ll74bqtkcXlKE7wwkMq4g\n",
      "The College Dropout 4Uv86qWpGTxf7fU7lG5X6F\n"
     ]
    }
   ],
   "source": [
    "for album in albums:\n",
    "    print(album['name'] , album['id'])\n",
    "    \n",
    "    album_info[album['name']] = album['id'] # hacemos un diccionario nombre_album : id_album"
   ]
  },
  {
   "cell_type": "code",
   "execution_count": 41,
   "metadata": {},
   "outputs": [],
   "source": [
    "#songs = spotify.album_tracks(album_id='')\n",
    "\n",
    "def tracks_in_album(album_name):\n",
    "    tracks_results = spotify.album_tracks(album_id=album_info[album_name])\n",
    "    \n",
    "    tracks = tracks_results['items']\n",
    "    while tracks_results['next']:\n",
    "        tracks_results = spotify.next(tracks_results)\n",
    "        tracks.extend(tracks_results['items'])\n",
    "\n",
    "    for track in tracks:\n",
    "        print(track['name'])\n",
    "    \n"
   ]
  },
  {
   "cell_type": "code",
   "execution_count": 42,
   "metadata": {},
   "outputs": [
    {
     "name": "stdout",
     "output_type": "stream",
     "text": [
      "Good Morning\n",
      "Champion\n",
      "Stronger\n",
      "I Wonder\n",
      "Good Life\n",
      "Can't Tell Me Nothing\n",
      "Barry Bonds\n",
      "Drunk and Hot Girls\n",
      "Flashing Lights\n",
      "Everything I Am\n",
      "The Glory\n",
      "Homecoming\n",
      "Big Brother\n",
      "Good Night\n"
     ]
    }
   ],
   "source": [
    "tracks_in_album('Graduation')"
   ]
  }
 ],
 "metadata": {
  "kernelspec": {
   "display_name": "Python 3",
   "language": "python",
   "name": "python3"
  },
  "language_info": {
   "codemirror_mode": {
    "name": "ipython",
    "version": 3
   },
   "file_extension": ".py",
   "mimetype": "text/x-python",
   "name": "python",
   "nbconvert_exporter": "python",
   "pygments_lexer": "ipython3",
   "version": "3.11.4"
  },
  "orig_nbformat": 4
 },
 "nbformat": 4,
 "nbformat_minor": 2
}
