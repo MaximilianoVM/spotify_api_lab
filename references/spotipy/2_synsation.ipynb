{
 "cells": [
  {
   "cell_type": "code",
   "execution_count": 5,
   "metadata": {},
   "outputs": [],
   "source": [
    "import spotipy\n",
    "import time\n",
    "from spotipy.oauth2 import SpotifyOAuth\n",
    "\n",
    "from flask import Flask, request, url_for, session, redirect\n",
    "\n",
    "app = Flask(__name__)"
   ]
  },
  {
   "cell_type": "code",
   "execution_count": 6,
   "metadata": {},
   "outputs": [],
   "source": [
    "app.config['SESSION_COOKIE_NAME'] = 'Spotify Cookie'\n",
    "app.secret_key = 'alskbfl3fh2kadnj@@ksn'\n",
    "\n",
    "TOKEN_INFO = 'token_info'"
   ]
  },
  {
   "cell_type": "code",
   "execution_count": 7,
   "metadata": {},
   "outputs": [],
   "source": [
    "@app.route('/')\n",
    "def login():\n",
    "    auth_url = create_spotify_oauth().get_authorize_url() # external authorize url\n",
    "    return redirect(auth_url) # redirecting user to that external url"
   ]
  },
  {
   "cell_type": "code",
   "execution_count": 8,
   "metadata": {},
   "outputs": [],
   "source": [
    "@app.route('/redirect')\n",
    "def redirect_page():\n",
    "    session.clear()\n",
    "    code = request.args.get('code')\n",
    "    token_info = create_spotify_oauth().get_access_token(code)\n",
    "    session[TOKEN_INFO] = token_info\n",
    "    return redirect(url_for('save_discover_weekly', _external = True))"
   ]
  },
  {
   "cell_type": "code",
   "execution_count": null,
   "metadata": {},
   "outputs": [],
   "source": []
  }
 ],
 "metadata": {
  "kernelspec": {
   "display_name": "Python 3",
   "language": "python",
   "name": "python3"
  },
  "language_info": {
   "codemirror_mode": {
    "name": "ipython",
    "version": 3
   },
   "file_extension": ".py",
   "mimetype": "text/x-python",
   "name": "python",
   "nbconvert_exporter": "python",
   "pygments_lexer": "ipython3",
   "version": "3.11.4"
  },
  "orig_nbformat": 4
 },
 "nbformat": 4,
 "nbformat_minor": 2
}
